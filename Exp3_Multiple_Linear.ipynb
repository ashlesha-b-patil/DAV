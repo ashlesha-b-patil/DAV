{
 "cells": [
  {
   "cell_type": "markdown",
   "id": "72c21a60-286f-47b6-aea3-ab7d11d1c4e6",
   "metadata": {},
   "source": [
    "# Multiple Linear Regression (Exp 3)"
   ]
  },
  {
   "cell_type": "markdown",
   "id": "43409ace-f5e8-4a93-9359-334d8c39f45d",
   "metadata": {},
   "source": [
    "# Step 1: Import Libraries"
   ]
  },
  {
   "cell_type": "code",
   "execution_count": 19,
   "id": "8b079406-0838-49dd-bceb-c70f24f09118",
   "metadata": {
    "scrolled": true
   },
   "outputs": [],
   "source": [
    "import pandas as pd\n",
    "import seaborn as sns\n",
    "import matplotlib.pyplot as plt\n",
    "import statsmodels.api as sm\n",
    "from sklearn.model_selection import train_test_split\n",
    "from sklearn.metrics import mean_squared_error, r2_score"
   ]
  },
  {
   "cell_type": "markdown",
   "id": "f10075b6-35a3-4e8c-8f75-0d008fc883b4",
   "metadata": {},
   "source": [
    "# Step 2: Load the Iris Dataset"
   ]
  },
  {
   "cell_type": "code",
   "execution_count": 5,
   "id": "72bd6370-31f6-49cd-839a-8b1344881672",
   "metadata": {},
   "outputs": [
    {
     "name": "stdout",
     "output_type": "stream",
     "text": [
      "   sepal_length  sepal_width  petal_length  petal_width species\n",
      "0           5.1          3.5           1.4          0.2  setosa\n",
      "1           4.9          3.0           1.4          0.2  setosa\n",
      "2           4.7          3.2           1.3          0.2  setosa\n",
      "3           4.6          3.1           1.5          0.2  setosa\n",
      "4           5.0          3.6           1.4          0.2  setosa\n"
     ]
    }
   ],
   "source": [
    "# Load the Iris dataset\n",
    "iris = sns.load_dataset('iris')\n",
    "\n",
    "# Display the first few rows of the dataset\n",
    "print(iris.head())"
   ]
  },
  {
   "cell_type": "markdown",
   "id": "3c40df08-92ae-4673-976a-41ab43b93bb1",
   "metadata": {},
   "source": [
    "# Step 3: Define Features and Target Variable"
   ]
  },
  {
   "cell_type": "code",
   "execution_count": 7,
   "id": "383e6ac1-760f-421f-98e9-162af19c3745",
   "metadata": {},
   "outputs": [],
   "source": [
    "# Define the independent variables (features) and the dependent variable (target)\n",
    "X = iris[['sepal_length', 'sepal_width', 'petal_width']]  # Features\n",
    "y = iris['petal_length']  # Target variable"
   ]
  },
  {
   "cell_type": "markdown",
   "id": "10186fd2-4da0-4bb9-84ad-92511b23c30b",
   "metadata": {},
   "source": [
    "# Step 4: Split the Dataset"
   ]
  },
  {
   "cell_type": "code",
   "execution_count": 9,
   "id": "80fce0cd-a4f0-460e-8c46-8d4db9ca54e2",
   "metadata": {},
   "outputs": [],
   "source": [
    "# Split the dataset into training and testing sets\n",
    "X_train, X_test, y_train, y_test = train_test_split(X, y, test_size=0.2, random_state=42)"
   ]
  },
  {
   "cell_type": "markdown",
   "id": "05ad630b-abd7-4916-80d2-e9c9452c5233",
   "metadata": {},
   "source": [
    "# Step 5: Add a Constant to the Model\n",
    "# Step 6: Fit the Multiple Linear Regression Model\n",
    "# Step 7: Print the Model Summary"
   ]
  },
  {
   "cell_type": "code",
   "execution_count": 11,
   "id": "57a0838a-bfff-4fee-802e-e6654d016282",
   "metadata": {},
   "outputs": [
    {
     "name": "stdout",
     "output_type": "stream",
     "text": [
      "                            OLS Regression Results                            \n",
      "==============================================================================\n",
      "Dep. Variable:           petal_length   R-squared:                       0.970\n",
      "Model:                            OLS   Adj. R-squared:                  0.969\n",
      "Method:                 Least Squares   F-statistic:                     1243.\n",
      "Date:                Mon, 21 Apr 2025   Prob (F-statistic):           5.65e-88\n",
      "Time:                        20:06:07   Log-Likelihood:                -27.046\n",
      "No. Observations:                 120   AIC:                             62.09\n",
      "Df Residuals:                     116   BIC:                             73.24\n",
      "Df Model:                           3                                         \n",
      "Covariance Type:            nonrobust                                         \n",
      "================================================================================\n",
      "                   coef    std err          t      P>|t|      [0.025      0.975]\n",
      "--------------------------------------------------------------------------------\n",
      "const           -0.2622      0.312     -0.840      0.402      -0.880       0.356\n",
      "sepal_length     0.7228      0.061     11.846      0.000       0.602       0.844\n",
      "sepal_width     -0.6358      0.072     -8.827      0.000      -0.778      -0.493\n",
      "petal_width      1.4675      0.071     20.526      0.000       1.326       1.609\n",
      "==============================================================================\n",
      "Omnibus:                        3.174   Durbin-Watson:                   2.098\n",
      "Prob(Omnibus):                  0.205   Jarque-Bera (JB):                2.636\n",
      "Skew:                           0.341   Prob(JB):                        0.268\n",
      "Kurtosis:                       3.250   Cond. No.                         76.6\n",
      "==============================================================================\n",
      "\n",
      "Notes:\n",
      "[1] Standard Errors assume that the covariance matrix of the errors is correctly specified.\n"
     ]
    }
   ],
   "source": [
    "# Add a constant to the model (intercept)\n",
    "X_train_sm = sm.add_constant(X_train)\n",
    "\n",
    "# Fit the multiple linear regression model\n",
    "model = sm.OLS(y_train, X_train_sm).fit()\n",
    "\n",
    "# Print the model summary\n",
    "print(model.summary())"
   ]
  },
  {
   "cell_type": "markdown",
   "id": "d0409651-3245-4857-b6f4-7560b50998e5",
   "metadata": {},
   "source": [
    "# Step 8: Make Predictions"
   ]
  },
  {
   "cell_type": "code",
   "execution_count": 13,
   "id": "d2da5a2f-0cf9-4790-988f-0ae424c2272a",
   "metadata": {},
   "outputs": [],
   "source": [
    "# Prepare the test set by adding a constant\n",
    "X_test_sm = sm.add_constant(X_test)\n",
    "\n",
    "# Make predictions\n",
    "y_pred = model.predict(X_test_sm)"
   ]
  },
  {
   "cell_type": "markdown",
   "id": "8bbeab2a-698e-4c43-828d-0b3a073050cb",
   "metadata": {},
   "source": [
    "# Step 9: Evaluate the Model"
   ]
  },
  {
   "cell_type": "code",
   "execution_count": 15,
   "id": "f1dca5c3-1746-465d-9ad3-6a24839f0d7f",
   "metadata": {},
   "outputs": [
    {
     "name": "stdout",
     "output_type": "stream",
     "text": [
      "Mean Squared Error: 0.1300162603138272\n",
      "R-squared: 0.9603293155857663\n"
     ]
    }
   ],
   "source": [
    "# Evaluate the model\n",
    "mse = mean_squared_error(y_test, y_pred)\n",
    "r2 = r2_score(y_test, y_pred)\n",
    "\n",
    "print(f'Mean Squared Error: {mse}')\n",
    "print(f'R-squared: {r2}')"
   ]
  },
  {
   "cell_type": "markdown",
   "id": "d4d8f549",
   "metadata": {},
   "source": [
    "# Step 10: Visualize Actual vs. Predicted Values\n"
   ]
  },
  {
   "cell_type": "code",
   "execution_count": 21,
   "id": "3a5cd69d",
   "metadata": {},
   "outputs": [
    {
     "data": {
      "image/png": "[encoded data removed]",
      "text/plain": [
       "<Figure size 1000x600 with 1 Axes>"
      ]
     },
     "metadata": {},
     "output_type": "display_data"
    }
   ],
   "source": [
    "# Create a DataFrame for plotting\n",
    "results = pd.DataFrame({'Actual': y_test, 'Predicted': y_pred})\n",
    "\n",
    "# Scatter plot of actual vs predicted values\n",
    "plt.figure(figsize=(10, 6))\n",
    "plt.scatter(results['Actual'], results['Predicted'], color='blue', alpha=0.6)\n",
    "plt.plot([results['Actual'].min(), results['Actual'].max()], \n",
    "         [results['Actual'].min(), results['Actual'].max()], \n",
    "         color='red', linestyle='--')  # Diagonal line\n",
    "plt.title('Actual vs Predicted Petal Length')\n",
    "plt.xlabel('Actual Petal Length')\n",
    "plt.ylabel('Predicted Petal Length')\n",
    "plt.grid()\n",
    "plt.show()"
   ]
  }
 ],
 "metadata": {
  "kernelspec": {
   "display_name": "Python 3 (ipykernel)",
   "language": "python",
   "name": "python3"
  },
  "language_info": {
   "codemirror_mode": {
    "name": "ipython",
    "version": 3
   },
   "file_extension": ".py",
   "mimetype": "text/x-python",
   "name": "python",
   "nbconvert_exporter": "python",
   "pygments_lexer": "ipython3",
   "version": "3.12.7"
  }
 },
 "nbformat": 4,
 "nbformat_minor": 5
}
