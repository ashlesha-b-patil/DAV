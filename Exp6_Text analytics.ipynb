{
 "cells": [
  {
   "cell_type": "markdown",
   "id": "eea3ad2b-2705-4cc5-8e59-512387f7de3c",
   "metadata": {},
   "source": [
    "# Step 1: Import Required Libraries"
   ]
  },
  {
   "cell_type": "code",
   "execution_count": 1,
   "id": "c4e223c4-4115-48fa-93e1-25e9255cf8f0",
   "metadata": {},
   "outputs": [
    {
     "name": "stderr",
     "output_type": "stream",
     "text": [
      "[nltk_data] Downloading package stopwords to\n",
      "[nltk_data]     C:\\Users\\Admin\\AppData\\Roaming\\nltk_data...\n",
      "[nltk_data]   Package stopwords is already up-to-date!\n"
     ]
    },
    {
     "data": {
      "text/plain": [
       "True"
      ]
     },
     "execution_count": 1,
     "metadata": {},
     "output_type": "execute_result"
    }
   ],
   "source": [
    "# Step 1: Import Required Libraries\n",
    "import numpy as np\n",
    "import pandas as pd\n",
    "import re\n",
    "import nltk\n",
    "import seaborn as sns\n",
    "import matplotlib.pyplot as plt\n",
    "\n",
    "from nltk.corpus import stopwords\n",
    "from sklearn.datasets import fetch_20newsgroups\n",
    "from sklearn.feature_extraction.text import TfidfVectorizer\n",
    "from sklearn.model_selection import train_test_split\n",
    "from sklearn.naive_bayes import MultinomialNB\n",
    "from sklearn.metrics import accuracy_score, confusion_matrix, classification_report\n",
    "\n",
    "# Download stopwords\n",
    "nltk.download('stopwords')"
   ]
  },
  {
   "cell_type": "markdown",
   "id": "b6cdd062-e2cf-4629-89b7-84a0679b8ef7",
   "metadata": {},
   "source": [
    "# Step 2: Load Dataset"
   ]
  },
  {
   "cell_type": "code",
   "execution_count": 2,
   "id": "9fecff4d-1ef7-44d7-a5ea-701ed533be95",
   "metadata": {},
   "outputs": [],
   "source": [
    "# Step 2: Load Inbuilt Dataset (20 Newsgroups)\n",
    "categories = ['rec.autos', 'sci.med']  # Simulate spam vs ham\n",
    "data = fetch_20newsgroups(subset='all', categories=categories, remove=('headers', 'footers', 'quotes'))\n",
    "\n",
    "df = pd.DataFrame({'message': data.data, 'label': data.target})  # 0 = rec.autos, 1 = sci.med\n"
   ]
  },
  {
   "cell_type": "markdown",
   "id": "a8e5402f-7cc8-40ea-8443-e1c71e73944d",
   "metadata": {},
   "source": [
    "# Step 3: Preprocess Text Data"
   ]
  },
  {
   "cell_type": "code",
   "execution_count": 5,
   "id": "d6756464-a8f3-4ec2-8558-fb329989774b",
   "metadata": {},
   "outputs": [],
   "source": [
    "# Step 3: Preprocess Text Data\n",
    "def preprocess_text(text):\n",
    "    text = text.lower()\n",
    "    text = re.sub(r'\\W', ' ', text)\n",
    "    text = re.sub(r'\\s+', ' ', text)\n",
    "    text = text.strip()\n",
    "    words = text.split()\n",
    "    words = [word for word in words if word not in stopwords.words('english')]\n",
    "    return ' '.join(words)\n",
    "\n",
    "df['processed_message'] = df['message'].apply(preprocess_text)\n"
   ]
  },
  {
   "cell_type": "markdown",
   "id": "f7994ef4-f8e7-4470-891b-5bee458c6dfe",
   "metadata": {},
   "source": [
    "# Step 4: Convert Text to Features Using TF-IDF\n",
    "# Step 5: Split Data for Training & Testing\n",
    "# Step 6: Train the Naïve Bayes Classifier"
   ]
  },
  {
   "cell_type": "code",
   "execution_count": 6,
   "id": "2f937b31-cbd2-4a85-8f14-379fb9ba1037",
   "metadata": {},
   "outputs": [],
   "source": [
    "# Step 4: Convert Text to TF-IDF Features\n",
    "vectorizer = TfidfVectorizer(max_features=3000)\n",
    "X = vectorizer.fit_transform(df['processed_message']).toarray()\n",
    "y = df['label']\n",
    "\n",
    "# Step 5: Split Data for Training and Testing\n",
    "X_train, X_test, y_train, y_test = train_test_split(X, y, test_size=0.2, random_state=42)\n",
    "\n",
    "# Step 6: Train Naive Bayes Classifier\n",
    "model = MultinomialNB()\n",
    "model.fit(X_train, y_train)\n",
    "\n",
    "y_pred = model.predict(X_test)\n"
   ]
  },
  {
   "cell_type": "markdown",
   "id": "0fc123d8-c399-4151-9e6f-b0bb3d69cee9",
   "metadata": {},
   "source": [
    "# Step 7: Evaluate Model Performance"
   ]
  },
  {
   "cell_type": "code",
   "execution_count": 7,
   "id": "b050518a-5c40-49dd-9507-1384a3677210",
   "metadata": {},
   "outputs": [
    {
     "name": "stdout",
     "output_type": "stream",
     "text": [
      "Accuracy: 0.9242\n",
      "\n",
      "Classification Report:\n",
      "               precision    recall  f1-score   support\n",
      "\n",
      "           0       0.94      0.91      0.92       200\n",
      "           1       0.91      0.94      0.92       196\n",
      "\n",
      "    accuracy                           0.92       396\n",
      "   macro avg       0.92      0.92      0.92       396\n",
      "weighted avg       0.92      0.92      0.92       396\n",
      "\n"
     ]
    }
   ],
   "source": [
    "# Step 7: Evaluate Model\n",
    "accuracy = accuracy_score(y_test, y_pred)\n",
    "print(f'Accuracy: {accuracy:.4f}')\n",
    "print(\"\\nClassification Report:\\n\", classification_report(y_test, y_pred))\n"
   ]
  },
  {
   "cell_type": "markdown",
   "id": "805d8962-0ebe-45e2-b7da-151a502fdd29",
   "metadata": {},
   "source": [
    "# Step 8: Visualize Results (Confusion Matrix)"
   ]
  },
  {
   "cell_type": "code",
   "execution_count": 8,
   "id": "a428e531-3a90-464e-ab64-4ab20f4fa568",
   "metadata": {},
   "outputs": [
    {
     "data": {
      "image/png": "[encoded data removed]",
      "text/plain": [
       "<Figure size 600x400 with 2 Axes>"
      ]
     },
     "metadata": {},
     "output_type": "display_data"
    }
   ],
   "source": [
    "\n",
    "# Step 8: Confusion Matrix\n",
    "plt.figure(figsize=(6, 4))\n",
    "sns.heatmap(confusion_matrix(y_test, y_pred), annot=True, fmt='d',\n",
    "            cmap='Blues', xticklabels=data.target_names, yticklabels=data.target_names)\n",
    "plt.xlabel(\"Predicted Label\")\n",
    "plt.ylabel(\"True Label\")\n",
    "plt.title(\"Confusion Matrix\")\n",
    "plt.show()\n"
   ]
  },
  {
   "cell_type": "code",
   "execution_count": null,
   "id": "dee32518-1c50-46dd-b74c-1f692ed8725b",
   "metadata": {},
   "outputs": [],
   "source": []
  }
 ],
 "metadata": {
  "kernelspec": {
   "display_name": "Python 3 (ipykernel)",
   "language": "python",
   "name": "python3"
  },
  "language_info": {
   "codemirror_mode": {
    "name": "ipython",
    "version": 3
   },
   "file_extension": ".py",
   "mimetype": "text/x-python",
   "name": "python",
   "nbconvert_exporter": "python",
   "pygments_lexer": "ipython3",
   "version": "3.12.7"
  }
 },
 "nbformat": 4,
 "nbformat_minor": 5
}
